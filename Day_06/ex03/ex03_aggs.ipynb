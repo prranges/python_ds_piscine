{
 "cells": [
  {
   "cell_type": "code",
   "execution_count": 32,
   "metadata": {},
   "outputs": [],
   "source": [
    "import pandas as pd\n",
    "import sqlite3"
   ]
  },
  {
   "cell_type": "markdown",
   "metadata": {},
   "source": [
    "- create a connection to the database using the library sqlite3"
   ]
  },
  {
   "cell_type": "code",
   "execution_count": 33,
   "metadata": {},
   "outputs": [],
   "source": [
    "conn = sqlite3.connect('../data/checking-logs.sqlite.sqlite')"
   ]
  },
  {
   "cell_type": "markdown",
   "metadata": {},
   "source": [
    "- get the schema of the table test"
   ]
  },
  {
   "cell_type": "code",
   "execution_count": 34,
   "metadata": {},
   "outputs": [
    {
     "data": {
      "text/html": [
       "<div>\n",
       "<style scoped>\n",
       "    .dataframe tbody tr th:only-of-type {\n",
       "        vertical-align: middle;\n",
       "    }\n",
       "\n",
       "    .dataframe tbody tr th {\n",
       "        vertical-align: top;\n",
       "    }\n",
       "\n",
       "    .dataframe thead th {\n",
       "        text-align: right;\n",
       "    }\n",
       "</style>\n",
       "<table border=\"1\" class=\"dataframe\">\n",
       "  <thead>\n",
       "    <tr style=\"text-align: right;\">\n",
       "      <th></th>\n",
       "      <th>cid</th>\n",
       "      <th>name</th>\n",
       "      <th>type</th>\n",
       "      <th>notnull</th>\n",
       "      <th>dflt_value</th>\n",
       "      <th>pk</th>\n",
       "    </tr>\n",
       "  </thead>\n",
       "  <tbody>\n",
       "    <tr>\n",
       "      <th>0</th>\n",
       "      <td>0</td>\n",
       "      <td>index</td>\n",
       "      <td>INTEGER</td>\n",
       "      <td>0</td>\n",
       "      <td>None</td>\n",
       "      <td>0</td>\n",
       "    </tr>\n",
       "    <tr>\n",
       "      <th>1</th>\n",
       "      <td>1</td>\n",
       "      <td>status</td>\n",
       "      <td>TEXT</td>\n",
       "      <td>0</td>\n",
       "      <td>None</td>\n",
       "      <td>0</td>\n",
       "    </tr>\n",
       "    <tr>\n",
       "      <th>2</th>\n",
       "      <td>2</td>\n",
       "      <td>success</td>\n",
       "      <td>INTEGER</td>\n",
       "      <td>0</td>\n",
       "      <td>None</td>\n",
       "      <td>0</td>\n",
       "    </tr>\n",
       "    <tr>\n",
       "      <th>3</th>\n",
       "      <td>3</td>\n",
       "      <td>timestamp</td>\n",
       "      <td>TIMESTAMP</td>\n",
       "      <td>0</td>\n",
       "      <td>None</td>\n",
       "      <td>0</td>\n",
       "    </tr>\n",
       "    <tr>\n",
       "      <th>4</th>\n",
       "      <td>4</td>\n",
       "      <td>numTrials</td>\n",
       "      <td>INTEGER</td>\n",
       "      <td>0</td>\n",
       "      <td>None</td>\n",
       "      <td>0</td>\n",
       "    </tr>\n",
       "    <tr>\n",
       "      <th>5</th>\n",
       "      <td>5</td>\n",
       "      <td>labname</td>\n",
       "      <td>TEXT</td>\n",
       "      <td>0</td>\n",
       "      <td>None</td>\n",
       "      <td>0</td>\n",
       "    </tr>\n",
       "    <tr>\n",
       "      <th>6</th>\n",
       "      <td>6</td>\n",
       "      <td>uid</td>\n",
       "      <td>TEXT</td>\n",
       "      <td>0</td>\n",
       "      <td>None</td>\n",
       "      <td>0</td>\n",
       "    </tr>\n",
       "  </tbody>\n",
       "</table>\n",
       "</div>"
      ],
      "text/plain": [
       "   cid       name       type  notnull dflt_value  pk\n",
       "0    0      index    INTEGER        0       None   0\n",
       "1    1     status       TEXT        0       None   0\n",
       "2    2    success    INTEGER        0       None   0\n",
       "3    3  timestamp  TIMESTAMP        0       None   0\n",
       "4    4  numTrials    INTEGER        0       None   0\n",
       "5    5    labname       TEXT        0       None   0\n",
       "6    6        uid       TEXT        0       None   0"
      ]
     },
     "execution_count": 34,
     "metadata": {},
     "output_type": "execute_result"
    }
   ],
   "source": [
    "pd.io.sql.read_sql('PRAGMA table_info(checker)', conn)"
   ]
  },
  {
   "cell_type": "markdown",
   "metadata": {},
   "source": [
    "- get only the first 10 rows of the table test to check what the table looks like"
   ]
  },
  {
   "cell_type": "code",
   "execution_count": 35,
   "metadata": {},
   "outputs": [
    {
     "data": {
      "text/html": [
       "<div>\n",
       "<style scoped>\n",
       "    .dataframe tbody tr th:only-of-type {\n",
       "        vertical-align: middle;\n",
       "    }\n",
       "\n",
       "    .dataframe tbody tr th {\n",
       "        vertical-align: top;\n",
       "    }\n",
       "\n",
       "    .dataframe thead th {\n",
       "        text-align: right;\n",
       "    }\n",
       "</style>\n",
       "<table border=\"1\" class=\"dataframe\">\n",
       "  <thead>\n",
       "    <tr style=\"text-align: right;\">\n",
       "      <th></th>\n",
       "      <th>index</th>\n",
       "      <th>status</th>\n",
       "      <th>success</th>\n",
       "      <th>timestamp</th>\n",
       "      <th>numTrials</th>\n",
       "      <th>labname</th>\n",
       "      <th>uid</th>\n",
       "    </tr>\n",
       "  </thead>\n",
       "  <tbody>\n",
       "    <tr>\n",
       "      <th>0</th>\n",
       "      <td>0</td>\n",
       "      <td>checking</td>\n",
       "      <td>0</td>\n",
       "      <td>2020-04-16 21:12:50.740474</td>\n",
       "      <td>5</td>\n",
       "      <td>None</td>\n",
       "      <td>admin_1</td>\n",
       "    </tr>\n",
       "    <tr>\n",
       "      <th>1</th>\n",
       "      <td>1</td>\n",
       "      <td>ready</td>\n",
       "      <td>0</td>\n",
       "      <td>2020-04-16 21:12:54.708365</td>\n",
       "      <td>5</td>\n",
       "      <td>code_rvw</td>\n",
       "      <td>admin_1</td>\n",
       "    </tr>\n",
       "    <tr>\n",
       "      <th>2</th>\n",
       "      <td>2</td>\n",
       "      <td>checking</td>\n",
       "      <td>0</td>\n",
       "      <td>2020-04-16 21:46:47.769088</td>\n",
       "      <td>7</td>\n",
       "      <td>None</td>\n",
       "      <td>admin_1</td>\n",
       "    </tr>\n",
       "    <tr>\n",
       "      <th>3</th>\n",
       "      <td>3</td>\n",
       "      <td>ready</td>\n",
       "      <td>0</td>\n",
       "      <td>2020-04-16 21:46:48.121217</td>\n",
       "      <td>7</td>\n",
       "      <td>lab02</td>\n",
       "      <td>admin_1</td>\n",
       "    </tr>\n",
       "    <tr>\n",
       "      <th>4</th>\n",
       "      <td>4</td>\n",
       "      <td>checking</td>\n",
       "      <td>0</td>\n",
       "      <td>2020-04-16 21:53:01.862637</td>\n",
       "      <td>6</td>\n",
       "      <td>code_rvw</td>\n",
       "      <td>admin_1</td>\n",
       "    </tr>\n",
       "    <tr>\n",
       "      <th>5</th>\n",
       "      <td>5</td>\n",
       "      <td>ready</td>\n",
       "      <td>0</td>\n",
       "      <td>2020-04-16 21:53:05.373389</td>\n",
       "      <td>6</td>\n",
       "      <td>code_rvw</td>\n",
       "      <td>admin_1</td>\n",
       "    </tr>\n",
       "    <tr>\n",
       "      <th>6</th>\n",
       "      <td>6</td>\n",
       "      <td>checking</td>\n",
       "      <td>0</td>\n",
       "      <td>2020-04-17 05:18:51.965864</td>\n",
       "      <td>1</td>\n",
       "      <td>None</td>\n",
       "      <td>None</td>\n",
       "    </tr>\n",
       "    <tr>\n",
       "      <th>7</th>\n",
       "      <td>7</td>\n",
       "      <td>ready</td>\n",
       "      <td>0</td>\n",
       "      <td>2020-04-17 05:19:02.744528</td>\n",
       "      <td>1</td>\n",
       "      <td>project1</td>\n",
       "      <td>user_4</td>\n",
       "    </tr>\n",
       "    <tr>\n",
       "      <th>8</th>\n",
       "      <td>8</td>\n",
       "      <td>checking</td>\n",
       "      <td>0</td>\n",
       "      <td>2020-04-17 05:22:35.249331</td>\n",
       "      <td>2</td>\n",
       "      <td>project1</td>\n",
       "      <td>user_4</td>\n",
       "    </tr>\n",
       "    <tr>\n",
       "      <th>9</th>\n",
       "      <td>9</td>\n",
       "      <td>ready</td>\n",
       "      <td>1</td>\n",
       "      <td>2020-04-17 05:22:45.549397</td>\n",
       "      <td>2</td>\n",
       "      <td>project1</td>\n",
       "      <td>user_4</td>\n",
       "    </tr>\n",
       "  </tbody>\n",
       "</table>\n",
       "</div>"
      ],
      "text/plain": [
       "   index    status  success                   timestamp  numTrials   labname  \\\n",
       "0      0  checking        0  2020-04-16 21:12:50.740474          5      None   \n",
       "1      1     ready        0  2020-04-16 21:12:54.708365          5  code_rvw   \n",
       "2      2  checking        0  2020-04-16 21:46:47.769088          7      None   \n",
       "3      3     ready        0  2020-04-16 21:46:48.121217          7     lab02   \n",
       "4      4  checking        0  2020-04-16 21:53:01.862637          6  code_rvw   \n",
       "5      5     ready        0  2020-04-16 21:53:05.373389          6  code_rvw   \n",
       "6      6  checking        0  2020-04-17 05:18:51.965864          1      None   \n",
       "7      7     ready        0  2020-04-17 05:19:02.744528          1  project1   \n",
       "8      8  checking        0  2020-04-17 05:22:35.249331          2  project1   \n",
       "9      9     ready        1  2020-04-17 05:22:45.549397          2  project1   \n",
       "\n",
       "       uid  \n",
       "0  admin_1  \n",
       "1  admin_1  \n",
       "2  admin_1  \n",
       "3  admin_1  \n",
       "4  admin_1  \n",
       "5  admin_1  \n",
       "6     None  \n",
       "7   user_4  \n",
       "8   user_4  \n",
       "9   user_4  "
      ]
     },
     "execution_count": 35,
     "metadata": {},
     "output_type": "execute_result"
    }
   ],
   "source": [
    "pd.io.sql.read_sql('SELECT * FROM checker LIMIT 10', conn)"
   ]
  },
  {
   "cell_type": "markdown",
   "metadata": {},
   "source": [
    "- find among all the users the minimum value of the delta between the first commit of the user and the deadline of the corresponding lab using only one query\n",
    "    - do this by joining the table with the table deadlines\n",
    "    - the difference should be displayed in hours\n",
    "    - do not take the lab ’project1’ into account, it has longer deadlines and will be an outlier\n",
    "    - the value should be stored in the dataframe df_min with the corresponding uid"
   ]
  },
  {
   "cell_type": "code",
   "execution_count": 36,
   "metadata": {},
   "outputs": [
    {
     "data": {
      "text/html": [
       "<div>\n",
       "<style scoped>\n",
       "    .dataframe tbody tr th:only-of-type {\n",
       "        vertical-align: middle;\n",
       "    }\n",
       "\n",
       "    .dataframe tbody tr th {\n",
       "        vertical-align: top;\n",
       "    }\n",
       "\n",
       "    .dataframe thead th {\n",
       "        text-align: right;\n",
       "    }\n",
       "</style>\n",
       "<table border=\"1\" class=\"dataframe\">\n",
       "  <thead>\n",
       "    <tr style=\"text-align: right;\">\n",
       "      <th></th>\n",
       "      <th>uid</th>\n",
       "      <th>MIN(diff)</th>\n",
       "    </tr>\n",
       "  </thead>\n",
       "  <tbody>\n",
       "    <tr>\n",
       "      <th>0</th>\n",
       "      <td>user_30</td>\n",
       "      <td>-202</td>\n",
       "    </tr>\n",
       "  </tbody>\n",
       "</table>\n",
       "</div>"
      ],
      "text/plain": [
       "       uid  MIN(diff)\n",
       "0  user_30       -202"
      ]
     },
     "execution_count": 36,
     "metadata": {},
     "output_type": "execute_result"
    }
   ],
   "source": [
    "df_min = pd.io.sql.read_sql(\n",
    "\"\"\"\n",
    "SELECT uid, cast((julianday(test.checker_ts) - julianday(datetime(deadlines.deadlines, 'unixepoch'))) * 24 AS INTEGER) AS diff\n",
    "FROM test LEFT JOIN deadlines ON test.labname = deadlines.labs\n",
    "WHERE NOT test.labname = 'project1'\n",
    "ORDER BY diff LIMIT 1\n",
    "\"\"\",\n",
    "conn).rename({'diff': 'MIN(diff)'}, axis=1)\n",
    "df_min"
   ]
  },
  {
   "cell_type": "markdown",
   "metadata": {},
   "source": [
    "- do the same thing, but for the maximum, using only one query, the dataframe name is df_max"
   ]
  },
  {
   "cell_type": "code",
   "execution_count": 37,
   "metadata": {},
   "outputs": [
    {
     "data": {
      "text/html": [
       "<div>\n",
       "<style scoped>\n",
       "    .dataframe tbody tr th:only-of-type {\n",
       "        vertical-align: middle;\n",
       "    }\n",
       "\n",
       "    .dataframe tbody tr th {\n",
       "        vertical-align: top;\n",
       "    }\n",
       "\n",
       "    .dataframe thead th {\n",
       "        text-align: right;\n",
       "    }\n",
       "</style>\n",
       "<table border=\"1\" class=\"dataframe\">\n",
       "  <thead>\n",
       "    <tr style=\"text-align: right;\">\n",
       "      <th></th>\n",
       "      <th>uid</th>\n",
       "      <th>MAX(diff)</th>\n",
       "    </tr>\n",
       "  </thead>\n",
       "  <tbody>\n",
       "    <tr>\n",
       "      <th>0</th>\n",
       "      <td>user_25</td>\n",
       "      <td>-2</td>\n",
       "    </tr>\n",
       "  </tbody>\n",
       "</table>\n",
       "</div>"
      ],
      "text/plain": [
       "       uid  MAX(diff)\n",
       "0  user_25         -2"
      ]
     },
     "execution_count": 37,
     "metadata": {},
     "output_type": "execute_result"
    }
   ],
   "source": [
    "df_max = pd.io.sql.read_sql(\n",
    "\"\"\"\n",
    "SELECT uid, cast((julianday(test.checker_ts) - julianday(datetime(deadlines.deadlines, 'unixepoch'))) * 24 AS INTEGER) AS diff\n",
    "FROM test LEFT JOIN deadlines ON test.labname = deadlines.labs\n",
    "WHERE NOT test.labname = 'project1'\n",
    "ORDER BY diff DESC LIMIT 1\n",
    "\"\"\",\n",
    "conn).rename({'diff': 'MAX(diff)'}, axis=1)\n",
    "df_max"
   ]
  },
  {
   "cell_type": "markdown",
   "metadata": {},
   "source": [
    "- do the same thing but for the average, using on lyonequery, this time your data frame should not include the uid column, and the dataframe name is df_avg"
   ]
  },
  {
   "cell_type": "code",
   "execution_count": 38,
   "metadata": {},
   "outputs": [
    {
     "data": {
      "text/html": [
       "<div>\n",
       "<style scoped>\n",
       "    .dataframe tbody tr th:only-of-type {\n",
       "        vertical-align: middle;\n",
       "    }\n",
       "\n",
       "    .dataframe tbody tr th {\n",
       "        vertical-align: top;\n",
       "    }\n",
       "\n",
       "    .dataframe thead th {\n",
       "        text-align: right;\n",
       "    }\n",
       "</style>\n",
       "<table border=\"1\" class=\"dataframe\">\n",
       "  <thead>\n",
       "    <tr style=\"text-align: right;\">\n",
       "      <th></th>\n",
       "      <th>AVG(diff)</th>\n",
       "    </tr>\n",
       "  </thead>\n",
       "  <tbody>\n",
       "    <tr>\n",
       "      <th>0</th>\n",
       "      <td>-89.125</td>\n",
       "    </tr>\n",
       "  </tbody>\n",
       "</table>\n",
       "</div>"
      ],
      "text/plain": [
       "   AVG(diff)\n",
       "0    -89.125"
      ]
     },
     "execution_count": 38,
     "metadata": {},
     "output_type": "execute_result"
    }
   ],
   "source": [
    "df_avg = pd.io.sql.read_sql(\n",
    "\"\"\"\n",
    "SELECT avg(diff)\n",
    "FROM (\n",
    "SELECT cast((julianday(test.checker_ts) - julianday(datetime(deadlines.deadlines, 'unixepoch'))) * 24 AS INTEGER) AS diff\n",
    "FROM test LEFT JOIN deadlines ON test.labname = deadlines.labs\n",
    "WHERE NOT test.labname = 'project1')\n",
    "\"\"\",\n",
    "conn).rename({'avg(diff)': 'AVG(diff)'}, axis=1)\n",
    "df_avg"
   ]
  },
  {
   "cell_type": "markdown",
   "metadata": {},
   "source": [
    "- we want to test the hypothesis that the users who visited the newsfeed just a few times have the lower delta between the first commit and the deadline. To do this, you need to calculate the correlation coefficient between the number of pageviews and the difference\n",
    "    - using only one query, create a table with the columns: uid, avg_diff, pageviews\n",
    "    - uid is the uids that exist in the test\n",
    "    - avg_diff is the average delta between the first commit and the lab deadline per user\n",
    "    - pageviews is the number of Newsfeed visits per user\n",
    "    - do not take the lab ’project1’ into account\n",
    "    - store it to the dataframe views_diff"
   ]
  },
  {
   "cell_type": "code",
   "execution_count": 39,
   "metadata": {},
   "outputs": [
    {
     "data": {
      "text/html": [
       "<div>\n",
       "<style scoped>\n",
       "    .dataframe tbody tr th:only-of-type {\n",
       "        vertical-align: middle;\n",
       "    }\n",
       "\n",
       "    .dataframe tbody tr th {\n",
       "        vertical-align: top;\n",
       "    }\n",
       "\n",
       "    .dataframe thead th {\n",
       "        text-align: right;\n",
       "    }\n",
       "</style>\n",
       "<table border=\"1\" class=\"dataframe\">\n",
       "  <thead>\n",
       "    <tr style=\"text-align: right;\">\n",
       "      <th></th>\n",
       "      <th>uid</th>\n",
       "      <th>avg_diff</th>\n",
       "      <th>pageviews</th>\n",
       "    </tr>\n",
       "  </thead>\n",
       "  <tbody>\n",
       "    <tr>\n",
       "      <th>0</th>\n",
       "      <td>user_1</td>\n",
       "      <td>-64.400000</td>\n",
       "      <td>28</td>\n",
       "    </tr>\n",
       "    <tr>\n",
       "      <th>1</th>\n",
       "      <td>user_10</td>\n",
       "      <td>-74.800000</td>\n",
       "      <td>89</td>\n",
       "    </tr>\n",
       "    <tr>\n",
       "      <th>2</th>\n",
       "      <td>user_14</td>\n",
       "      <td>-159.000000</td>\n",
       "      <td>143</td>\n",
       "    </tr>\n",
       "    <tr>\n",
       "      <th>3</th>\n",
       "      <td>user_17</td>\n",
       "      <td>-61.600000</td>\n",
       "      <td>47</td>\n",
       "    </tr>\n",
       "    <tr>\n",
       "      <th>4</th>\n",
       "      <td>user_18</td>\n",
       "      <td>-5.666667</td>\n",
       "      <td>3</td>\n",
       "    </tr>\n",
       "    <tr>\n",
       "      <th>5</th>\n",
       "      <td>user_19</td>\n",
       "      <td>-98.750000</td>\n",
       "      <td>16</td>\n",
       "    </tr>\n",
       "    <tr>\n",
       "      <th>6</th>\n",
       "      <td>user_21</td>\n",
       "      <td>-95.500000</td>\n",
       "      <td>10</td>\n",
       "    </tr>\n",
       "    <tr>\n",
       "      <th>7</th>\n",
       "      <td>user_25</td>\n",
       "      <td>-92.600000</td>\n",
       "      <td>179</td>\n",
       "    </tr>\n",
       "    <tr>\n",
       "      <th>8</th>\n",
       "      <td>user_28</td>\n",
       "      <td>-86.400000</td>\n",
       "      <td>149</td>\n",
       "    </tr>\n",
       "    <tr>\n",
       "      <th>9</th>\n",
       "      <td>user_3</td>\n",
       "      <td>-105.400000</td>\n",
       "      <td>317</td>\n",
       "    </tr>\n",
       "    <tr>\n",
       "      <th>10</th>\n",
       "      <td>user_30</td>\n",
       "      <td>-145.250000</td>\n",
       "      <td>3</td>\n",
       "    </tr>\n",
       "  </tbody>\n",
       "</table>\n",
       "</div>"
      ],
      "text/plain": [
       "        uid    avg_diff  pageviews\n",
       "0    user_1  -64.400000         28\n",
       "1   user_10  -74.800000         89\n",
       "2   user_14 -159.000000        143\n",
       "3   user_17  -61.600000         47\n",
       "4   user_18   -5.666667          3\n",
       "5   user_19  -98.750000         16\n",
       "6   user_21  -95.500000         10\n",
       "7   user_25  -92.600000        179\n",
       "8   user_28  -86.400000        149\n",
       "9    user_3 -105.400000        317\n",
       "10  user_30 -145.250000          3"
      ]
     },
     "execution_count": 39,
     "metadata": {},
     "output_type": "execute_result"
    }
   ],
   "source": [
    "views_diff = pd.io.sql.read_sql(\n",
    "\"\"\"\n",
    "SELECT diff.uid, avg_diff, pageviews\n",
    "FROM (\n",
    "SELECT uid, avg(cast((julianday(test.checker_ts) - julianday(datetime(deadlines.deadlines, 'unixepoch'))) * 24 as integer)) as avg_diff\n",
    "FROM test left join deadlines on test.labname = deadlines.labs\n",
    "WHERE NOT test.labname = 'project1'GROUP BY uid) AS diff LEFT JOIN (SELECT uid, count(*) AS pageviews\n",
    "FROM  pageviews GROUP BY uid) AS views ON diff.uid = views.uid\n",
    "\"\"\",\n",
    "conn)\n",
    "views_diff"
   ]
  },
  {
   "cell_type": "markdown",
   "metadata": {},
   "source": [
    "- use the Pandas method corr() to calculate the correlation coefficient between the number of pageviews and the difference  "
   ]
  },
  {
   "cell_type": "code",
   "execution_count": 40,
   "metadata": {},
   "outputs": [
    {
     "data": {
      "text/html": [
       "<div>\n",
       "<style scoped>\n",
       "    .dataframe tbody tr th:only-of-type {\n",
       "        vertical-align: middle;\n",
       "    }\n",
       "\n",
       "    .dataframe tbody tr th {\n",
       "        vertical-align: top;\n",
       "    }\n",
       "\n",
       "    .dataframe thead th {\n",
       "        text-align: right;\n",
       "    }\n",
       "</style>\n",
       "<table border=\"1\" class=\"dataframe\">\n",
       "  <thead>\n",
       "    <tr style=\"text-align: right;\">\n",
       "      <th></th>\n",
       "      <th>avg_diff</th>\n",
       "      <th>pageviews</th>\n",
       "    </tr>\n",
       "  </thead>\n",
       "  <tbody>\n",
       "    <tr>\n",
       "      <th>avg_diff</th>\n",
       "      <td>1.000000</td>\n",
       "      <td>-0.279736</td>\n",
       "    </tr>\n",
       "    <tr>\n",
       "      <th>pageviews</th>\n",
       "      <td>-0.279736</td>\n",
       "      <td>1.000000</td>\n",
       "    </tr>\n",
       "  </tbody>\n",
       "</table>\n",
       "</div>"
      ],
      "text/plain": [
       "           avg_diff  pageviews\n",
       "avg_diff   1.000000  -0.279736\n",
       "pageviews -0.279736   1.000000"
      ]
     },
     "execution_count": 40,
     "metadata": {},
     "output_type": "execute_result"
    }
   ],
   "source": [
    "views_diff.corr(numeric_only=True)"
   ]
  },
  {
   "cell_type": "markdown",
   "metadata": {},
   "source": [
    "- close the connection"
   ]
  },
  {
   "cell_type": "code",
   "execution_count": 41,
   "metadata": {},
   "outputs": [],
   "source": [
    "conn.close()"
   ]
  }
 ],
 "metadata": {
  "kernelspec": {
   "display_name": "Python 3.10.6 64-bit",
   "language": "python",
   "name": "python3"
  },
  "language_info": {
   "codemirror_mode": {
    "name": "ipython",
    "version": 3
   },
   "file_extension": ".py",
   "mimetype": "text/x-python",
   "name": "python",
   "nbconvert_exporter": "python",
   "pygments_lexer": "ipython3",
   "version": "3.10.6"
  },
  "orig_nbformat": 4,
  "vscode": {
   "interpreter": {
    "hash": "aee8b7b246df8f9039afb4144a1f6fd8d2ca17a180786b69acc140d282b71a49"
   }
  }
 },
 "nbformat": 4,
 "nbformat_minor": 2
}
